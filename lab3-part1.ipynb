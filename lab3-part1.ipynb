{
 "cells": [
  {
   "cell_type": "code",
   "execution_count": 1,
   "id": "95b2c3a6",
   "metadata": {
    "_cell_guid": "b1076dfc-b9ad-4769-8c92-a6c4dae69d19",
    "_uuid": "8f2839f25d086af736a60e9eeb907d3b93b6e0e5",
    "execution": {
     "iopub.execute_input": "2024-04-08T00:54:08.148577Z",
     "iopub.status.busy": "2024-04-08T00:54:08.148238Z",
     "iopub.status.idle": "2024-04-08T00:54:08.902321Z",
     "shell.execute_reply": "2024-04-08T00:54:08.901404Z"
    },
    "papermill": {
     "duration": 0.764045,
     "end_time": "2024-04-08T00:54:08.904616",
     "exception": false,
     "start_time": "2024-04-08T00:54:08.140571",
     "status": "completed"
    },
    "tags": []
   },
   "outputs": [],
   "source": [
    "# This Python 3 environment comes with many helpful analytics libraries installed\n",
    "# It is defined by the kaggle/python Docker image: https://github.com/kaggle/docker-python\n",
    "# For example, here's several helpful packages to load\n",
    "\n",
    "import numpy as np # linear algebra\n",
    "import pandas as pd # data processing, CSV file I/O (e.g. pd.read_csv)\n",
    "\n",
    "# Input data files are available in the read-only \"../input/\" directory\n",
    "# For example, running this (by clicking run or pressing Shift+Enter) will list all files under the input directory\n",
    "\n",
    "import os\n",
    "for dirname, _, filenames in os.walk('/kaggle/input'):\n",
    "    for filename in filenames:\n",
    "        print(os.path.join(dirname, filename))\n",
    "\n",
    "# You can write up to 20GB to the current directory (/kaggle/working/) that gets preserved as output when you create a version using \"Save & Run All\" \n",
    "# You can also write temporary files to /kaggle/temp/, but they won't be saved outside of the current session"
   ]
  },
  {
   "cell_type": "code",
   "execution_count": 2,
   "id": "17f77f09",
   "metadata": {
    "execution": {
     "iopub.execute_input": "2024-04-08T00:54:08.918282Z",
     "iopub.status.busy": "2024-04-08T00:54:08.917539Z",
     "iopub.status.idle": "2024-04-08T00:54:13.191517Z",
     "shell.execute_reply": "2024-04-08T00:54:13.190530Z"
    },
    "papermill": {
     "duration": 4.283543,
     "end_time": "2024-04-08T00:54:13.194221",
     "exception": false,
     "start_time": "2024-04-08T00:54:08.910678",
     "status": "completed"
    },
    "tags": []
   },
   "outputs": [
    {
     "data": {
      "text/html": [
       "<div>\n",
       "<style scoped>\n",
       "    .dataframe tbody tr th:only-of-type {\n",
       "        vertical-align: middle;\n",
       "    }\n",
       "\n",
       "    .dataframe tbody tr th {\n",
       "        vertical-align: top;\n",
       "    }\n",
       "\n",
       "    .dataframe thead th {\n",
       "        text-align: right;\n",
       "    }\n",
       "</style>\n",
       "<table border=\"1\" class=\"dataframe\">\n",
       "  <thead>\n",
       "    <tr style=\"text-align: right;\">\n",
       "      <th></th>\n",
       "      <th>Text</th>\n",
       "    </tr>\n",
       "  </thead>\n",
       "  <tbody>\n",
       "    <tr>\n",
       "      <th>0</th>\n",
       "      <td>تعريف الذكاء الاصطناعي - موضوع \\nالتصنيفات\\nأج...</td>\n",
       "    </tr>\n",
       "    <tr>\n",
       "      <th>1</th>\n",
       "      <td>خصائص الذكاء الاصطناعي - موضوع \\nالتصنيفات\\nأج...</td>\n",
       "    </tr>\n",
       "    <tr>\n",
       "      <th>2</th>\n",
       "      <td>مجالات الذكاء الاصطناعي - موضوع \\nالتصنيفات\\nأ...</td>\n",
       "    </tr>\n",
       "    <tr>\n",
       "      <th>3</th>\n",
       "      <td>الذكاء الاصطناعي في خدمة التنمية المستدامة - م...</td>\n",
       "    </tr>\n",
       "    <tr>\n",
       "      <th>4</th>\n",
       "      <td>\\nالذكاء الاصطناعي والفن: تأثيره ومستقبل الفنا...</td>\n",
       "    </tr>\n",
       "    <tr>\n",
       "      <th>5</th>\n",
       "      <td>بحث عن مخاطر الإنترنت - موضوع \\nالتصنيفات\\nأجد...</td>\n",
       "    </tr>\n",
       "    <tr>\n",
       "      <th>6</th>\n",
       "      <td>\\nالمسؤولية والأخلاق والتحيز المسؤولية والأخلا...</td>\n",
       "    </tr>\n",
       "    <tr>\n",
       "      <th>7</th>\n",
       "      <td>خصائص الذكاء - موضوع \\nالتصنيفات\\nأجدد المقالا...</td>\n",
       "    </tr>\n",
       "    <tr>\n",
       "      <th>8</th>\n",
       "      <td>من هو مخترع الكهرباء - موضوع \\nالتصنيفات\\nأجدد...</td>\n",
       "    </tr>\n",
       "    <tr>\n",
       "      <th>9</th>\n",
       "      <td>أهمية الذكاء الاصطناعي في مجال التعليم - موضوع...</td>\n",
       "    </tr>\n",
       "  </tbody>\n",
       "</table>\n",
       "</div>"
      ],
      "text/plain": [
       "                                                Text\n",
       "0  تعريف الذكاء الاصطناعي - موضوع \\nالتصنيفات\\nأج...\n",
       "1  خصائص الذكاء الاصطناعي - موضوع \\nالتصنيفات\\nأج...\n",
       "2  مجالات الذكاء الاصطناعي - موضوع \\nالتصنيفات\\nأ...\n",
       "3  الذكاء الاصطناعي في خدمة التنمية المستدامة - م...\n",
       "4  \\nالذكاء الاصطناعي والفن: تأثيره ومستقبل الفنا...\n",
       "5  بحث عن مخاطر الإنترنت - موضوع \\nالتصنيفات\\nأجد...\n",
       "6  \\nالمسؤولية والأخلاق والتحيز المسؤولية والأخلا...\n",
       "7  خصائص الذكاء - موضوع \\nالتصنيفات\\nأجدد المقالا...\n",
       "8  من هو مخترع الكهرباء - موضوع \\nالتصنيفات\\nأجدد...\n",
       "9  أهمية الذكاء الاصطناعي في مجال التعليم - موضوع..."
      ]
     },
     "execution_count": 2,
     "metadata": {},
     "output_type": "execute_result"
    }
   ],
   "source": [
    "from bs4 import BeautifulSoup\n",
    "import requests\n",
    "\n",
    "# Liste des liens à scraper\n",
    "urls = [\n",
    "    \"https://mawdoo3.com/%D8%AA%D8%B9%D8%B1%D9%8A%D9%81_%D8%A7%D9%84%D8%B0%D9%83%D8%A7%D8%A1_%D8%A7%D9%84%D8%A7%D8%B5%D8%B7%D9%86%D8%A7%D8%B9%D9%8A\",\n",
    "    \"https://mawdoo3.com/%D8%AE%D8%B5%D8%A7%D8%A6%D8%B5_%D8%A7%D9%84%D8%B0%D9%83%D8%A7%D8%A1_%D8%A7%D9%84%D8%A7%D8%B5%D8%B7%D9%86%D8%A7%D8%B9%D9%8A\",\n",
    "    \"https://mawdoo3.com/%D9%85%D8%AC%D8%A7%D9%84%D8%A7%D8%AA_%D8%A7%D9%84%D8%B0%D9%83%D8%A7%D8%A1_%D8%A7%D9%84%D8%A7%D8%B5%D8%B7%D9%86%D8%A7%D8%B9%D9%8A\",\n",
    "    \"https://innovationhub.social/articles/impact17_01\",\n",
    "    \"https://onpassive.com/blog/ar/why-the-growth-of-artificial-intelligence-in-the-art-industry-wont-eliminate-artists#:~:text=%D8%A7%D9%84%D8%A5%D8%AC%D8%A7%D8%A8%D8%A9%20%D8%B9%D9%84%D9%89%20%D9%85%D8%A7%20%D8%A5%D8%B0%D8%A7%20%D9%83%D8%A7%D9%86%20%D8%A7%D9%84%D8%B0%D9%83%D8%A7%D8%A1%20%D8%A7%D9%84%D8%A7%D8%B5%D8%B7%D9%86%D8%A7%D8%B9%D9%8A%20%D8%B3%D9%8A%D8%AD%D9%84,%D8%A7%D9%84%D8%A5%D8%A8%D8%AF%D8%A7%D8%B9%D9%8A%D8%A9%20%D8%A3%D8%B3%D9%87%D9%84%20%D9%88%D8%A3%D9%83%D8%AB%D8%B1%20%D9%81%D8%A7%D8%B9%D9%84%D9%8A%D8%A9%20%D9%85%D8%B9%20%D8%A7%D8%B3%D8%AA%D8%AE%D8%AF%D8%A7%D9%85%20%D8%A7%D9%84%D8%B0%D9%83%D8%A7%D8%A1%20%D8%A7%D9%84%D8%A7%D8%B5%D8%B7%D9%86%D8%A7%D8%B9%D9%8A.\",\n",
    "    \"https://mawdoo3.com/%D8%A8%D8%AD%D8%AB_%D8%B9%D9%86_%D9%85%D8%AE%D8%A7%D8%B7%D8%B1_%D8%A7%D9%84%D8%A5%D9%86%D8%AA%D8%B1%D9%86%D8%AA\",\n",
    "    \"https://onpassive.com/blog/ar/learn-about-responsible-ai\",\n",
    "    \"https://mawdoo3.com/%D8%AE%D8%B5%D8%A7%D8%A6%D8%B5_%D8%A7%D9%84%D8%B0%D9%83%D8%A7%D8%A1\",\n",
    "    \"https://mawdoo3.com/%D9%85%D9%86_%D9%87%D9%88_%D9%85%D8%AE%D8%AA%D8%B1%D8%B9_%D8%A7%D9%84%D9%83%D9%87%D8%B1%D8%A8%D8%A7%D8%A1\",\n",
    "    \"https://mawdoo3.com/%D8%A3%D9%87%D9%85%D9%8A%D8%A9_%D8%A7%D9%84%D8%B0%D9%83%D8%A7%D8%A1_%D8%A7%D9%84%D8%A7%D8%B5%D8%B7%D9%86%D8%A7%D8%B9%D9%8A_%D9%81%D9%8A_%D9%85%D8%AC%D8%A7%D9%84_%D8%A7%D9%84%D8%AA%D8%B9%D9%84%D9%8A%D9%85\"\n",
    "    \n",
    "\n",
    "]\n",
    "texts = []\n",
    "\n",
    "i = 0\n",
    "for url in urls:\n",
    "    response = requests.get(url)\n",
    "    if response.status_code == 200:\n",
    "        soup = BeautifulSoup(response.content, 'html.parser')\n",
    "        content = soup.get_text()\n",
    "        content = content.replace('\\n\\n', '')\n",
    "        texts.append(content)\n",
    "    else:\n",
    "        print(f\"Échec de la requête à l'URL : {url}\")\n",
    "        print(f\"num : {i}\")\n",
    "    \n",
    "    i = i+1   \n",
    "        \n",
    "df = pd.DataFrame(texts, columns=['Text'])\n",
    "\n",
    "df\n",
    "        "
   ]
  },
  {
   "cell_type": "code",
   "execution_count": 3,
   "id": "9e4583f0",
   "metadata": {
    "execution": {
     "iopub.execute_input": "2024-04-08T00:54:13.208879Z",
     "iopub.status.busy": "2024-04-08T00:54:13.208468Z",
     "iopub.status.idle": "2024-04-08T00:54:13.220493Z",
     "shell.execute_reply": "2024-04-08T00:54:13.219726Z"
    },
    "papermill": {
     "duration": 0.021404,
     "end_time": "2024-04-08T00:54:13.222388",
     "exception": false,
     "start_time": "2024-04-08T00:54:13.200984",
     "status": "completed"
    },
    "tags": []
   },
   "outputs": [
    {
     "data": {
      "text/html": [
       "<div>\n",
       "<style scoped>\n",
       "    .dataframe tbody tr th:only-of-type {\n",
       "        vertical-align: middle;\n",
       "    }\n",
       "\n",
       "    .dataframe tbody tr th {\n",
       "        vertical-align: top;\n",
       "    }\n",
       "\n",
       "    .dataframe thead th {\n",
       "        text-align: right;\n",
       "    }\n",
       "</style>\n",
       "<table border=\"1\" class=\"dataframe\">\n",
       "  <thead>\n",
       "    <tr style=\"text-align: right;\">\n",
       "      <th></th>\n",
       "      <th>Text</th>\n",
       "      <th>Score</th>\n",
       "    </tr>\n",
       "  </thead>\n",
       "  <tbody>\n",
       "    <tr>\n",
       "      <th>0</th>\n",
       "      <td>تعريف الذكاء الاصطناعي - موضوع \\nالتصنيفات\\nأج...</td>\n",
       "      <td>9</td>\n",
       "    </tr>\n",
       "    <tr>\n",
       "      <th>1</th>\n",
       "      <td>خصائص الذكاء الاصطناعي - موضوع \\nالتصنيفات\\nأج...</td>\n",
       "      <td>7</td>\n",
       "    </tr>\n",
       "    <tr>\n",
       "      <th>2</th>\n",
       "      <td>مجالات الذكاء الاصطناعي - موضوع \\nالتصنيفات\\nأ...</td>\n",
       "      <td>8</td>\n",
       "    </tr>\n",
       "    <tr>\n",
       "      <th>3</th>\n",
       "      <td>الذكاء الاصطناعي في خدمة التنمية المستدامة - م...</td>\n",
       "      <td>7</td>\n",
       "    </tr>\n",
       "    <tr>\n",
       "      <th>4</th>\n",
       "      <td>\\nالذكاء الاصطناعي والفن: تأثيره ومستقبل الفنا...</td>\n",
       "      <td>6</td>\n",
       "    </tr>\n",
       "    <tr>\n",
       "      <th>5</th>\n",
       "      <td>بحث عن مخاطر الإنترنت - موضوع \\nالتصنيفات\\nأجد...</td>\n",
       "      <td>0</td>\n",
       "    </tr>\n",
       "    <tr>\n",
       "      <th>6</th>\n",
       "      <td>\\nالمسؤولية والأخلاق والتحيز المسؤولية والأخلا...</td>\n",
       "      <td>4</td>\n",
       "    </tr>\n",
       "    <tr>\n",
       "      <th>7</th>\n",
       "      <td>خصائص الذكاء - موضوع \\nالتصنيفات\\nأجدد المقالا...</td>\n",
       "      <td>2</td>\n",
       "    </tr>\n",
       "    <tr>\n",
       "      <th>8</th>\n",
       "      <td>من هو مخترع الكهرباء - موضوع \\nالتصنيفات\\nأجدد...</td>\n",
       "      <td>0</td>\n",
       "    </tr>\n",
       "    <tr>\n",
       "      <th>9</th>\n",
       "      <td>أهمية الذكاء الاصطناعي في مجال التعليم - موضوع...</td>\n",
       "      <td>5</td>\n",
       "    </tr>\n",
       "  </tbody>\n",
       "</table>\n",
       "</div>"
      ],
      "text/plain": [
       "                                                Text  Score\n",
       "0  تعريف الذكاء الاصطناعي - موضوع \\nالتصنيفات\\nأج...      9\n",
       "1  خصائص الذكاء الاصطناعي - موضوع \\nالتصنيفات\\nأج...      7\n",
       "2  مجالات الذكاء الاصطناعي - موضوع \\nالتصنيفات\\nأ...      8\n",
       "3  الذكاء الاصطناعي في خدمة التنمية المستدامة - م...      7\n",
       "4  \\nالذكاء الاصطناعي والفن: تأثيره ومستقبل الفنا...      6\n",
       "5  بحث عن مخاطر الإنترنت - موضوع \\nالتصنيفات\\nأجد...      0\n",
       "6  \\nالمسؤولية والأخلاق والتحيز المسؤولية والأخلا...      4\n",
       "7  خصائص الذكاء - موضوع \\nالتصنيفات\\nأجدد المقالا...      2\n",
       "8  من هو مخترع الكهرباء - موضوع \\nالتصنيفات\\nأجدد...      0\n",
       "9  أهمية الذكاء الاصطناعي في مجال التعليم - موضوع...      5"
      ]
     },
     "execution_count": 3,
     "metadata": {},
     "output_type": "execute_result"
    }
   ],
   "source": [
    "scores =[9,7,8,7,6,0,4,2,0,5]\n",
    "df['Score'] = scores\n",
    "df\n"
   ]
  },
  {
   "cell_type": "code",
   "execution_count": 4,
   "id": "87f34236",
   "metadata": {
    "execution": {
     "iopub.execute_input": "2024-04-08T00:54:13.235662Z",
     "iopub.status.busy": "2024-04-08T00:54:13.235390Z",
     "iopub.status.idle": "2024-04-08T00:54:13.244429Z",
     "shell.execute_reply": "2024-04-08T00:54:13.243486Z"
    },
    "papermill": {
     "duration": 0.017892,
     "end_time": "2024-04-08T00:54:13.246406",
     "exception": false,
     "start_time": "2024-04-08T00:54:13.228514",
     "status": "completed"
    },
    "tags": []
   },
   "outputs": [
    {
     "data": {
      "text/html": [
       "<div>\n",
       "<style scoped>\n",
       "    .dataframe tbody tr th:only-of-type {\n",
       "        vertical-align: middle;\n",
       "    }\n",
       "\n",
       "    .dataframe tbody tr th {\n",
       "        vertical-align: top;\n",
       "    }\n",
       "\n",
       "    .dataframe thead th {\n",
       "        text-align: right;\n",
       "    }\n",
       "</style>\n",
       "<table border=\"1\" class=\"dataframe\">\n",
       "  <thead>\n",
       "    <tr style=\"text-align: right;\">\n",
       "      <th></th>\n",
       "      <th>Text</th>\n",
       "      <th>Score</th>\n",
       "    </tr>\n",
       "  </thead>\n",
       "  <tbody>\n",
       "    <tr>\n",
       "      <th>0</th>\n",
       "      <td>تعريف الذكاء الاصطناعي - موضوع \\nالتصنيفات\\nأج...</td>\n",
       "      <td>9</td>\n",
       "    </tr>\n",
       "    <tr>\n",
       "      <th>1</th>\n",
       "      <td>خصائص الذكاء الاصطناعي - موضوع \\nالتصنيفات\\nأج...</td>\n",
       "      <td>7</td>\n",
       "    </tr>\n",
       "    <tr>\n",
       "      <th>2</th>\n",
       "      <td>مجالات الذكاء الاصطناعي - موضوع \\nالتصنيفات\\nأ...</td>\n",
       "      <td>8</td>\n",
       "    </tr>\n",
       "    <tr>\n",
       "      <th>3</th>\n",
       "      <td>الذكاء الاصطناعي في خدمة التنمية المستدامة - م...</td>\n",
       "      <td>7</td>\n",
       "    </tr>\n",
       "    <tr>\n",
       "      <th>4</th>\n",
       "      <td>\\nالذكاء الاصطناعي والفن: تأثيره ومستقبل الفنا...</td>\n",
       "      <td>6</td>\n",
       "    </tr>\n",
       "    <tr>\n",
       "      <th>5</th>\n",
       "      <td>بحث عن مخاطر الإنترنت - موضوع \\nالتصنيفات\\nأجد...</td>\n",
       "      <td>0</td>\n",
       "    </tr>\n",
       "    <tr>\n",
       "      <th>6</th>\n",
       "      <td>\\nالمسؤولية والأخلاق والتحيز المسؤولية والأخلا...</td>\n",
       "      <td>4</td>\n",
       "    </tr>\n",
       "    <tr>\n",
       "      <th>7</th>\n",
       "      <td>خصائص الذكاء - موضوع \\nالتصنيفات\\nأجدد المقالا...</td>\n",
       "      <td>2</td>\n",
       "    </tr>\n",
       "    <tr>\n",
       "      <th>8</th>\n",
       "      <td>من هو مخترع الكهرباء - موضوع \\nالتصنيفات\\nأجدد...</td>\n",
       "      <td>0</td>\n",
       "    </tr>\n",
       "    <tr>\n",
       "      <th>9</th>\n",
       "      <td>أهمية الذكاء الاصطناعي في مجال التعليم - موضوع...</td>\n",
       "      <td>5</td>\n",
       "    </tr>\n",
       "  </tbody>\n",
       "</table>\n",
       "</div>"
      ],
      "text/plain": [
       "                                                Text  Score\n",
       "0  تعريف الذكاء الاصطناعي - موضوع \\nالتصنيفات\\nأج...      9\n",
       "1  خصائص الذكاء الاصطناعي - موضوع \\nالتصنيفات\\nأج...      7\n",
       "2  مجالات الذكاء الاصطناعي - موضوع \\nالتصنيفات\\nأ...      8\n",
       "3  الذكاء الاصطناعي في خدمة التنمية المستدامة - م...      7\n",
       "4  \\nالذكاء الاصطناعي والفن: تأثيره ومستقبل الفنا...      6\n",
       "5  بحث عن مخاطر الإنترنت - موضوع \\nالتصنيفات\\nأجد...      0\n",
       "6  \\nالمسؤولية والأخلاق والتحيز المسؤولية والأخلا...      4\n",
       "7  خصائص الذكاء - موضوع \\nالتصنيفات\\nأجدد المقالا...      2\n",
       "8  من هو مخترع الكهرباء - موضوع \\nالتصنيفات\\nأجدد...      0\n",
       "9  أهمية الذكاء الاصطناعي في مجال التعليم - موضوع...      5"
      ]
     },
     "execution_count": 4,
     "metadata": {},
     "output_type": "execute_result"
    }
   ],
   "source": [
    "df2=df.copy()\n",
    "df2"
   ]
  },
  {
   "cell_type": "code",
   "execution_count": 5,
   "id": "755a79b8",
   "metadata": {
    "execution": {
     "iopub.execute_input": "2024-04-08T00:54:13.260591Z",
     "iopub.status.busy": "2024-04-08T00:54:13.260308Z",
     "iopub.status.idle": "2024-04-08T00:54:13.265493Z",
     "shell.execute_reply": "2024-04-08T00:54:13.264669Z"
    },
    "papermill": {
     "duration": 0.014178,
     "end_time": "2024-04-08T00:54:13.267413",
     "exception": false,
     "start_time": "2024-04-08T00:54:13.253235",
     "status": "completed"
    },
    "tags": []
   },
   "outputs": [
    {
     "name": "stdout",
     "output_type": "stream",
     "text": [
      "!\"#$%&'()*+,-./:;<=>?@[\\]^_`{|}~"
     ]
    }
   ],
   "source": [
    "import string\n",
    "for c in string.punctuation:\n",
    "    print(c, end=\"\")"
   ]
  },
  {
   "cell_type": "code",
   "execution_count": 6,
   "id": "692a6f98",
   "metadata": {
    "execution": {
     "iopub.execute_input": "2024-04-08T00:54:13.281456Z",
     "iopub.status.busy": "2024-04-08T00:54:13.281176Z",
     "iopub.status.idle": "2024-04-08T00:54:14.974681Z",
     "shell.execute_reply": "2024-04-08T00:54:14.973869Z"
    },
    "papermill": {
     "duration": 1.702962,
     "end_time": "2024-04-08T00:54:14.976918",
     "exception": false,
     "start_time": "2024-04-08T00:54:13.273956",
     "status": "completed"
    },
    "tags": []
   },
   "outputs": [],
   "source": [
    "import re\n",
    "import nltk\n",
    "from nltk.corpus import stopwords\n",
    "from nltk.tokenize import word_tokenize\n",
    "from nltk.stem import WordNetLemmatizer"
   ]
  },
  {
   "cell_type": "code",
   "execution_count": 7,
   "id": "70c409bc",
   "metadata": {
    "execution": {
     "iopub.execute_input": "2024-04-08T00:54:14.991973Z",
     "iopub.status.busy": "2024-04-08T00:54:14.991080Z",
     "iopub.status.idle": "2024-04-08T00:54:15.103179Z",
     "shell.execute_reply": "2024-04-08T00:54:15.102037Z"
    },
    "papermill": {
     "duration": 0.121353,
     "end_time": "2024-04-08T00:54:15.105185",
     "exception": false,
     "start_time": "2024-04-08T00:54:14.983832",
     "status": "completed"
    },
    "tags": []
   },
   "outputs": [
    {
     "name": "stdout",
     "output_type": "stream",
     "text": [
      "[nltk_data] Downloading package stopwords to /usr/share/nltk_data...\n",
      "[nltk_data]   Package stopwords is already up-to-date!\n"
     ]
    },
    {
     "data": {
      "text/plain": [
       "True"
      ]
     },
     "execution_count": 7,
     "metadata": {},
     "output_type": "execute_result"
    }
   ],
   "source": [
    "nltk.download('stopwords')"
   ]
  },
  {
   "cell_type": "code",
   "execution_count": 8,
   "id": "38e1e207",
   "metadata": {
    "execution": {
     "iopub.execute_input": "2024-04-08T00:54:15.120149Z",
     "iopub.status.busy": "2024-04-08T00:54:15.119615Z",
     "iopub.status.idle": "2024-04-08T00:54:15.173817Z",
     "shell.execute_reply": "2024-04-08T00:54:15.172851Z"
    },
    "papermill": {
     "duration": 0.063801,
     "end_time": "2024-04-08T00:54:15.175781",
     "exception": false,
     "start_time": "2024-04-08T00:54:15.111980",
     "status": "completed"
    },
    "tags": []
   },
   "outputs": [
    {
     "name": "stdout",
     "output_type": "stream",
     "text": [
      "[nltk_data] Downloading package wordnet to /usr/share/nltk_data...\n",
      "[nltk_data]   Package wordnet is already up-to-date!\n"
     ]
    },
    {
     "data": {
      "text/plain": [
       "True"
      ]
     },
     "execution_count": 8,
     "metadata": {},
     "output_type": "execute_result"
    }
   ],
   "source": [
    "nltk.download('wordnet')"
   ]
  },
  {
   "cell_type": "code",
   "execution_count": 9,
   "id": "b808648b",
   "metadata": {
    "execution": {
     "iopub.execute_input": "2024-04-08T00:54:15.192183Z",
     "iopub.status.busy": "2024-04-08T00:54:15.191433Z",
     "iopub.status.idle": "2024-04-08T00:54:16.451483Z",
     "shell.execute_reply": "2024-04-08T00:54:16.450462Z"
    },
    "papermill": {
     "duration": 1.271335,
     "end_time": "2024-04-08T00:54:16.454018",
     "exception": false,
     "start_time": "2024-04-08T00:54:15.182683",
     "status": "completed"
    },
    "tags": []
   },
   "outputs": [
    {
     "name": "stdout",
     "output_type": "stream",
     "text": [
      "Archive:  /usr/share/nltk_data/corpora/wordnet.zip\r\n",
      "   creating: /usr/share/nltk_data/corpora/wordnet/\r\n",
      "  inflating: /usr/share/nltk_data/corpora/wordnet/lexnames  \r\n",
      "  inflating: /usr/share/nltk_data/corpora/wordnet/data.verb  \r\n",
      "  inflating: /usr/share/nltk_data/corpora/wordnet/index.adv  \r\n",
      "  inflating: /usr/share/nltk_data/corpora/wordnet/adv.exc  \r\n",
      "  inflating: /usr/share/nltk_data/corpora/wordnet/index.verb  \r\n",
      "  inflating: /usr/share/nltk_data/corpora/wordnet/cntlist.rev  \r\n",
      "  inflating: /usr/share/nltk_data/corpora/wordnet/data.adj  \r\n",
      "  inflating: /usr/share/nltk_data/corpora/wordnet/index.adj  \r\n",
      "  inflating: /usr/share/nltk_data/corpora/wordnet/LICENSE  \r\n",
      "  inflating: /usr/share/nltk_data/corpora/wordnet/citation.bib  \r\n",
      "  inflating: /usr/share/nltk_data/corpora/wordnet/noun.exc  \r\n",
      "  inflating: /usr/share/nltk_data/corpora/wordnet/verb.exc  \r\n",
      "  inflating: /usr/share/nltk_data/corpora/wordnet/README  \r\n",
      "  inflating: /usr/share/nltk_data/corpora/wordnet/index.sense  \r\n",
      "  inflating: /usr/share/nltk_data/corpora/wordnet/data.noun  \r\n",
      "  inflating: /usr/share/nltk_data/corpora/wordnet/data.adv  \r\n",
      "  inflating: /usr/share/nltk_data/corpora/wordnet/index.noun  \r\n",
      "  inflating: /usr/share/nltk_data/corpora/wordnet/adj.exc  \r\n"
     ]
    }
   ],
   "source": [
    "!unzip /usr/share/nltk_data/corpora/wordnet.zip -d /usr/share/nltk_data/corpora/"
   ]
  },
  {
   "cell_type": "code",
   "execution_count": 10,
   "id": "fb1a1d7b",
   "metadata": {
    "execution": {
     "iopub.execute_input": "2024-04-08T00:54:16.470430Z",
     "iopub.status.busy": "2024-04-08T00:54:16.470060Z",
     "iopub.status.idle": "2024-04-08T00:54:16.478833Z",
     "shell.execute_reply": "2024-04-08T00:54:16.477973Z"
    },
    "papermill": {
     "duration": 0.019401,
     "end_time": "2024-04-08T00:54:16.480856",
     "exception": false,
     "start_time": "2024-04-08T00:54:16.461455",
     "status": "completed"
    },
    "tags": []
   },
   "outputs": [
    {
     "data": {
      "text/plain": [
       "['arabic',\n",
       " 'azerbaijani',\n",
       " 'basque',\n",
       " 'bengali',\n",
       " 'catalan',\n",
       " 'chinese',\n",
       " 'danish',\n",
       " 'dutch',\n",
       " 'english',\n",
       " 'finnish',\n",
       " 'french',\n",
       " 'german',\n",
       " 'greek',\n",
       " 'hebrew',\n",
       " 'hinglish',\n",
       " 'hungarian',\n",
       " 'indonesian',\n",
       " 'italian',\n",
       " 'kazakh',\n",
       " 'nepali',\n",
       " 'norwegian',\n",
       " 'portuguese',\n",
       " 'romanian',\n",
       " 'russian',\n",
       " 'slovene',\n",
       " 'spanish',\n",
       " 'swedish',\n",
       " 'tajik',\n",
       " 'turkish']"
      ]
     },
     "execution_count": 10,
     "metadata": {},
     "output_type": "execute_result"
    }
   ],
   "source": [
    "stopwords.fileids()"
   ]
  },
  {
   "cell_type": "code",
   "execution_count": 11,
   "id": "3a75752c",
   "metadata": {
    "execution": {
     "iopub.execute_input": "2024-04-08T00:54:16.497482Z",
     "iopub.status.busy": "2024-04-08T00:54:16.496865Z",
     "iopub.status.idle": "2024-04-08T00:54:16.503871Z",
     "shell.execute_reply": "2024-04-08T00:54:16.503077Z"
    },
    "papermill": {
     "duration": 0.017272,
     "end_time": "2024-04-08T00:54:16.505890",
     "exception": false,
     "start_time": "2024-04-08T00:54:16.488618",
     "status": "completed"
    },
    "tags": []
   },
   "outputs": [
    {
     "name": "stdout",
     "output_type": "stream",
     "text": [
      "['إذ', 'إذا', 'إذما', 'إذن', 'أف', 'أقل', 'أكثر', 'ألا', 'إلا', 'التي', 'الذي', 'الذين', 'اللاتي', 'اللائي', 'اللتان', 'اللتيا', 'اللتين', 'اللذان', 'اللذين', 'اللواتي', 'إلى', 'إليك', 'إليكم', 'إليكما', 'إليكن', 'أم', 'أما', 'أما', 'إما', 'أن', 'إن', 'إنا', 'أنا', 'أنت', 'أنتم', 'أنتما', 'أنتن', 'إنما', 'إنه', 'أنى', 'أنى', 'آه', 'آها', 'أو', 'أولاء', 'أولئك', 'أوه', 'آي', 'أي', 'أيها', 'إي', 'أين', 'أين', 'أينما', 'إيه', 'بخ', 'بس', 'بعد', 'بعض', 'بك', 'بكم', 'بكم', 'بكما', 'بكن', 'بل', 'بلى', 'بما', 'بماذا', 'بمن', 'بنا', 'به', 'بها', 'بهم', 'بهما', 'بهن', 'بي', 'بين', 'بيد', 'تلك', 'تلكم', 'تلكما', 'ته', 'تي', 'تين', 'تينك', 'ثم', 'ثمة', 'حاشا', 'حبذا', 'حتى', 'حيث', 'حيثما', 'حين', 'خلا', 'دون', 'ذا', 'ذات', 'ذاك', 'ذان', 'ذانك', 'ذلك', 'ذلكم', 'ذلكما', 'ذلكن', 'ذه', 'ذو', 'ذوا', 'ذواتا', 'ذواتي', 'ذي', 'ذين', 'ذينك', 'ريث', 'سوف', 'سوى', 'شتان', 'عدا', 'عسى', 'عل', 'على', 'عليك', 'عليه', 'عما', 'عن', 'عند', 'غير', 'فإذا', 'فإن', 'فلا', 'فمن', 'في', 'فيم', 'فيما', 'فيه', 'فيها', 'قد', 'كأن', 'كأنما', 'كأي', 'كأين', 'كذا', 'كذلك', 'كل', 'كلا', 'كلاهما', 'كلتا', 'كلما', 'كليكما', 'كليهما', 'كم', 'كم', 'كما', 'كي', 'كيت', 'كيف', 'كيفما', 'لا', 'لاسيما', 'لدى', 'لست', 'لستم', 'لستما', 'لستن', 'لسن', 'لسنا', 'لعل', 'لك', 'لكم', 'لكما', 'لكن', 'لكنما', 'لكي', 'لكيلا', 'لم', 'لما', 'لن', 'لنا', 'له', 'لها', 'لهم', 'لهما', 'لهن', 'لو', 'لولا', 'لوما', 'لي', 'لئن', 'ليت', 'ليس', 'ليسا', 'ليست', 'ليستا', 'ليسوا', 'ما', 'ماذا', 'متى', 'مذ', 'مع', 'مما', 'ممن', 'من', 'منه', 'منها', 'منذ', 'مه', 'مهما', 'نحن', 'نحو', 'نعم', 'ها', 'هاتان', 'هاته', 'هاتي', 'هاتين', 'هاك', 'هاهنا', 'هذا', 'هذان', 'هذه', 'هذي', 'هذين', 'هكذا', 'هل', 'هلا', 'هم', 'هما', 'هن', 'هنا', 'هناك', 'هنالك', 'هو', 'هؤلاء', 'هي', 'هيا', 'هيت', 'هيهات', 'والذي', 'والذين', 'وإذ', 'وإذا', 'وإن', 'ولا', 'ولكن', 'ولو', 'وما', 'ومن', 'وهو', 'يا', 'أبٌ', 'أخٌ', 'حمٌ', 'فو', 'أنتِ', 'يناير', 'فبراير', 'مارس', 'أبريل', 'مايو', 'يونيو', 'يوليو', 'أغسطس', 'سبتمبر', 'أكتوبر', 'نوفمبر', 'ديسمبر', 'جانفي', 'فيفري', 'مارس', 'أفريل', 'ماي', 'جوان', 'جويلية', 'أوت', 'كانون', 'شباط', 'آذار', 'نيسان', 'أيار', 'حزيران', 'تموز', 'آب', 'أيلول', 'تشرين', 'دولار', 'دينار', 'ريال', 'درهم', 'ليرة', 'جنيه', 'قرش', 'مليم', 'فلس', 'هللة', 'سنتيم', 'يورو', 'ين', 'يوان', 'شيكل', 'واحد', 'اثنان', 'ثلاثة', 'أربعة', 'خمسة', 'ستة', 'سبعة', 'ثمانية', 'تسعة', 'عشرة', 'أحد', 'اثنا', 'اثني', 'إحدى', 'ثلاث', 'أربع', 'خمس', 'ست', 'سبع', 'ثماني', 'تسع', 'عشر', 'ثمان', 'سبت', 'أحد', 'اثنين', 'ثلاثاء', 'أربعاء', 'خميس', 'جمعة', 'أول', 'ثان', 'ثاني', 'ثالث', 'رابع', 'خامس', 'سادس', 'سابع', 'ثامن', 'تاسع', 'عاشر', 'حادي', 'أ', 'ب', 'ت', 'ث', 'ج', 'ح', 'خ', 'د', 'ذ', 'ر', 'ز', 'س', 'ش', 'ص', 'ض', 'ط', 'ظ', 'ع', 'غ', 'ف', 'ق', 'ك', 'ل', 'م', 'ن', 'ه', 'و', 'ي', 'ء', 'ى', 'آ', 'ؤ', 'ئ', 'أ', 'ة', 'ألف', 'باء', 'تاء', 'ثاء', 'جيم', 'حاء', 'خاء', 'دال', 'ذال', 'راء', 'زاي', 'سين', 'شين', 'صاد', 'ضاد', 'طاء', 'ظاء', 'عين', 'غين', 'فاء', 'قاف', 'كاف', 'لام', 'ميم', 'نون', 'هاء', 'واو', 'ياء', 'همزة', 'ي', 'نا', 'ك', 'كن', 'ه', 'إياه', 'إياها', 'إياهما', 'إياهم', 'إياهن', 'إياك', 'إياكما', 'إياكم', 'إياك', 'إياكن', 'إياي', 'إيانا', 'أولالك', 'تانِ', 'تانِك', 'تِه', 'تِي', 'تَيْنِ', 'ثمّ', 'ثمّة', 'ذانِ', 'ذِه', 'ذِي', 'ذَيْنِ', 'هَؤلاء', 'هَاتانِ', 'هَاتِه', 'هَاتِي', 'هَاتَيْنِ', 'هَذا', 'هَذانِ', 'هَذِه', 'هَذِي', 'هَذَيْنِ', 'الألى', 'الألاء', 'أل', 'أنّى', 'أيّ', 'ّأيّان', 'أنّى', 'أيّ', 'ّأيّان', 'ذيت', 'كأيّ', 'كأيّن', 'بضع', 'فلان', 'وا', 'آمينَ', 'آهِ', 'آهٍ', 'آهاً', 'أُفٍّ', 'أُفٍّ', 'أفٍّ', 'أمامك', 'أمامكَ', 'أوّهْ', 'إلَيْكَ', 'إلَيْكَ', 'إليكَ', 'إليكنّ', 'إيهٍ', 'بخٍ', 'بسّ', 'بَسْ', 'بطآن', 'بَلْهَ', 'حاي', 'حَذارِ', 'حيَّ', 'حيَّ', 'دونك', 'رويدك', 'سرعان', 'شتانَ', 'شَتَّانَ', 'صهْ', 'صهٍ', 'طاق', 'طَق', 'عَدَسْ', 'كِخ', 'مكانَك', 'مكانَك', 'مكانَك', 'مكانكم', 'مكانكما', 'مكانكنّ', 'نَخْ', 'هاكَ', 'هَجْ', 'هلم', 'هيّا', 'هَيْهات', 'وا', 'واهاً', 'وراءَك', 'وُشْكَانَ', 'وَيْ', 'يفعلان', 'تفعلان', 'يفعلون', 'تفعلون', 'تفعلين', 'اتخذ', 'ألفى', 'تخذ', 'ترك', 'تعلَّم', 'جعل', 'حجا', 'حبيب', 'خال', 'حسب', 'خال', 'درى', 'رأى', 'زعم', 'صبر', 'ظنَّ', 'عدَّ', 'علم', 'غادر', 'ذهب', 'وجد', 'ورد', 'وهب', 'أسكن', 'أطعم', 'أعطى', 'رزق', 'زود', 'سقى', 'كسا', 'أخبر', 'أرى', 'أعلم', 'أنبأ', 'حدَث', 'خبَّر', 'نبَّا', 'أفعل به', 'ما أفعله', 'بئس', 'ساء', 'طالما', 'قلما', 'لات', 'لكنَّ', 'ءَ', 'أجل', 'إذاً', 'أمّا', 'إمّا', 'إنَّ', 'أنًّ', 'أى', 'إى', 'أيا', 'ب', 'ثمَّ', 'جلل', 'جير', 'رُبَّ', 'س', 'علًّ', 'ف', 'كأنّ', 'كلَّا', 'كى', 'ل', 'لات', 'لعلَّ', 'لكنَّ', 'لكنَّ', 'م', 'نَّ', 'هلّا', 'وا', 'أل', 'إلّا', 'ت', 'ك', 'لمّا', 'ن', 'ه', 'و', 'ا', 'ي', 'تجاه', 'تلقاء', 'جميع', 'حسب', 'سبحان', 'شبه', 'لعمر', 'مثل', 'معاذ', 'أبو', 'أخو', 'حمو', 'فو', 'مئة', 'مئتان', 'ثلاثمئة', 'أربعمئة', 'خمسمئة', 'ستمئة', 'سبعمئة', 'ثمنمئة', 'تسعمئة', 'مائة', 'ثلاثمائة', 'أربعمائة', 'خمسمائة', 'ستمائة', 'سبعمائة', 'ثمانمئة', 'تسعمائة', 'عشرون', 'ثلاثون', 'اربعون', 'خمسون', 'ستون', 'سبعون', 'ثمانون', 'تسعون', 'عشرين', 'ثلاثين', 'اربعين', 'خمسين', 'ستين', 'سبعين', 'ثمانين', 'تسعين', 'بضع', 'نيف', 'أجمع', 'جميع', 'عامة', 'عين', 'نفس', 'لا سيما', 'أصلا', 'أهلا', 'أيضا', 'بؤسا', 'بعدا', 'بغتة', 'تعسا', 'حقا', 'حمدا', 'خلافا', 'خاصة', 'دواليك', 'سحقا', 'سرا', 'سمعا', 'صبرا', 'صدقا', 'صراحة', 'طرا', 'عجبا', 'عيانا', 'غالبا', 'فرادى', 'فضلا', 'قاطبة', 'كثيرا', 'لبيك', 'معاذ', 'أبدا', 'إزاء', 'أصلا', 'الآن', 'أمد', 'أمس', 'آنفا', 'آناء', 'أنّى', 'أول', 'أيّان', 'تارة', 'ثمّ', 'ثمّة', 'حقا', 'صباح', 'مساء', 'ضحوة', 'عوض', 'غدا', 'غداة', 'قطّ', 'كلّما', 'لدن', 'لمّا', 'مرّة', 'قبل', 'خلف', 'أمام', 'فوق', 'تحت', 'يمين', 'شمال', 'ارتدّ', 'استحال', 'أصبح', 'أضحى', 'آض', 'أمسى', 'انقلب', 'بات', 'تبدّل', 'تحوّل', 'حار', 'رجع', 'راح', 'صار', 'ظلّ', 'عاد', 'غدا', 'كان', 'ما انفك', 'ما برح', 'مادام', 'مازال', 'مافتئ', 'ابتدأ', 'أخذ', 'اخلولق', 'أقبل', 'انبرى', 'أنشأ', 'أوشك', 'جعل', 'حرى', 'شرع', 'طفق', 'علق', 'قام', 'كرب', 'كاد', 'هبّ']\n"
     ]
    }
   ],
   "source": [
    "print(stopwords.words('arabic'))"
   ]
  },
  {
   "cell_type": "code",
   "execution_count": 12,
   "id": "362e8f5e",
   "metadata": {
    "execution": {
     "iopub.execute_input": "2024-04-08T00:54:16.522538Z",
     "iopub.status.busy": "2024-04-08T00:54:16.521768Z",
     "iopub.status.idle": "2024-04-08T00:54:18.747586Z",
     "shell.execute_reply": "2024-04-08T00:54:18.746670Z"
    },
    "papermill": {
     "duration": 2.23636,
     "end_time": "2024-04-08T00:54:18.749778",
     "exception": false,
     "start_time": "2024-04-08T00:54:16.513418",
     "status": "completed"
    },
    "tags": []
   },
   "outputs": [
    {
     "data": {
      "text/html": [
       "<div>\n",
       "<style scoped>\n",
       "    .dataframe tbody tr th:only-of-type {\n",
       "        vertical-align: middle;\n",
       "    }\n",
       "\n",
       "    .dataframe tbody tr th {\n",
       "        vertical-align: top;\n",
       "    }\n",
       "\n",
       "    .dataframe thead th {\n",
       "        text-align: right;\n",
       "    }\n",
       "</style>\n",
       "<table border=\"1\" class=\"dataframe\">\n",
       "  <thead>\n",
       "    <tr style=\"text-align: right;\">\n",
       "      <th></th>\n",
       "      <th>Text</th>\n",
       "      <th>Score</th>\n",
       "      <th>clean_text</th>\n",
       "    </tr>\n",
       "  </thead>\n",
       "  <tbody>\n",
       "    <tr>\n",
       "      <th>0</th>\n",
       "      <td>تعريف الذكاء الاصطناعي - موضوع \\nالتصنيفات\\nأج...</td>\n",
       "      <td>9</td>\n",
       "      <td>تعريف الذكاء الاصطناعي موضوع التصنيفات أجدد ال...</td>\n",
       "    </tr>\n",
       "    <tr>\n",
       "      <th>1</th>\n",
       "      <td>خصائص الذكاء الاصطناعي - موضوع \\nالتصنيفات\\nأج...</td>\n",
       "      <td>7</td>\n",
       "      <td>خصائص الذكاء الاصطناعي موضوع التصنيفات أجدد ال...</td>\n",
       "    </tr>\n",
       "    <tr>\n",
       "      <th>2</th>\n",
       "      <td>مجالات الذكاء الاصطناعي - موضوع \\nالتصنيفات\\nأ...</td>\n",
       "      <td>8</td>\n",
       "      <td>مجالات الذكاء الاصطناعي موضوع التصنيفات أجدد ا...</td>\n",
       "    </tr>\n",
       "    <tr>\n",
       "      <th>3</th>\n",
       "      <td>الذكاء الاصطناعي في خدمة التنمية المستدامة - م...</td>\n",
       "      <td>7</td>\n",
       "      <td>الذكاء الاصطناعي خدمة التنمية المستدامة مبادرة...</td>\n",
       "    </tr>\n",
       "    <tr>\n",
       "      <th>4</th>\n",
       "      <td>\\nالذكاء الاصطناعي والفن: تأثيره ومستقبل الفنا...</td>\n",
       "      <td>6</td>\n",
       "      <td>الذكاء الاصطناعي والفن تأثيره ومستقبل الفنانين...</td>\n",
       "    </tr>\n",
       "    <tr>\n",
       "      <th>5</th>\n",
       "      <td>بحث عن مخاطر الإنترنت - موضوع \\nالتصنيفات\\nأجد...</td>\n",
       "      <td>0</td>\n",
       "      <td>بحث مخاطر الإنترنت موضوع التصنيفات أجدد المقال...</td>\n",
       "    </tr>\n",
       "    <tr>\n",
       "      <th>6</th>\n",
       "      <td>\\nالمسؤولية والأخلاق والتحيز المسؤولية والأخلا...</td>\n",
       "      <td>4</td>\n",
       "      <td>المسؤولية والأخلاق والتحيز المسؤولية والأخلاق ...</td>\n",
       "    </tr>\n",
       "    <tr>\n",
       "      <th>7</th>\n",
       "      <td>خصائص الذكاء - موضوع \\nالتصنيفات\\nأجدد المقالا...</td>\n",
       "      <td>2</td>\n",
       "      <td>خصائص الذكاء موضوع التصنيفات أجدد المقالات الأ...</td>\n",
       "    </tr>\n",
       "    <tr>\n",
       "      <th>8</th>\n",
       "      <td>من هو مخترع الكهرباء - موضوع \\nالتصنيفات\\nأجدد...</td>\n",
       "      <td>0</td>\n",
       "      <td>مخترع الكهرباء موضوع التصنيفات أجدد المقالات ا...</td>\n",
       "    </tr>\n",
       "    <tr>\n",
       "      <th>9</th>\n",
       "      <td>أهمية الذكاء الاصطناعي في مجال التعليم - موضوع...</td>\n",
       "      <td>5</td>\n",
       "      <td>أهمية الذكاء الاصطناعي مجال التعليم موضوع التص...</td>\n",
       "    </tr>\n",
       "  </tbody>\n",
       "</table>\n",
       "</div>"
      ],
      "text/plain": [
       "                                                Text  Score  \\\n",
       "0  تعريف الذكاء الاصطناعي - موضوع \\nالتصنيفات\\nأج...      9   \n",
       "1  خصائص الذكاء الاصطناعي - موضوع \\nالتصنيفات\\nأج...      7   \n",
       "2  مجالات الذكاء الاصطناعي - موضوع \\nالتصنيفات\\nأ...      8   \n",
       "3  الذكاء الاصطناعي في خدمة التنمية المستدامة - م...      7   \n",
       "4  \\nالذكاء الاصطناعي والفن: تأثيره ومستقبل الفنا...      6   \n",
       "5  بحث عن مخاطر الإنترنت - موضوع \\nالتصنيفات\\nأجد...      0   \n",
       "6  \\nالمسؤولية والأخلاق والتحيز المسؤولية والأخلا...      4   \n",
       "7  خصائص الذكاء - موضوع \\nالتصنيفات\\nأجدد المقالا...      2   \n",
       "8  من هو مخترع الكهرباء - موضوع \\nالتصنيفات\\nأجدد...      0   \n",
       "9  أهمية الذكاء الاصطناعي في مجال التعليم - موضوع...      5   \n",
       "\n",
       "                                          clean_text  \n",
       "0  تعريف الذكاء الاصطناعي موضوع التصنيفات أجدد ال...  \n",
       "1  خصائص الذكاء الاصطناعي موضوع التصنيفات أجدد ال...  \n",
       "2  مجالات الذكاء الاصطناعي موضوع التصنيفات أجدد ا...  \n",
       "3  الذكاء الاصطناعي خدمة التنمية المستدامة مبادرة...  \n",
       "4  الذكاء الاصطناعي والفن تأثيره ومستقبل الفنانين...  \n",
       "5  بحث مخاطر الإنترنت موضوع التصنيفات أجدد المقال...  \n",
       "6  المسؤولية والأخلاق والتحيز المسؤولية والأخلاق ...  \n",
       "7  خصائص الذكاء موضوع التصنيفات أجدد المقالات الأ...  \n",
       "8  مخترع الكهرباء موضوع التصنيفات أجدد المقالات ا...  \n",
       "9  أهمية الذكاء الاصطناعي مجال التعليم موضوع التص...  "
      ]
     },
     "execution_count": 12,
     "metadata": {},
     "output_type": "execute_result"
    }
   ],
   "source": [
    "def clean_text(text):\n",
    "\n",
    "    text = re.sub(r'@\\w+', '', text)  \n",
    "    text = re.sub(r'#\\w+', '', text)  \n",
    "    text = re.sub(r'http\\S+', '', text)  \n",
    "    text = re.sub(r'[^\\w\\s,]', '', text)\n",
    "    # Supprimer les caractères qui ne sont pas en arabe\n",
    "    text = re.sub(r'[^\\u0600-\\u06FF\\s]', '', text)\n",
    "\n",
    "    text = text.translate(str.maketrans('', '', string.punctuation))\n",
    "    text = re.sub(r'\\d+', '', text)\n",
    "    tokens = nltk.word_tokenize(text)    \n",
    "    stop_words = set(stopwords.words('arabic'))\n",
    "    filtered_tokens = [word for word in tokens if word not in stop_words] \n",
    "    lemmatizer = WordNetLemmatizer()\n",
    "    lemmatized_tokens = [lemmatizer.lemmatize(word) for word in filtered_tokens]\n",
    "   \n",
    "    cleaned_text = ' '.join(lemmatized_tokens)\n",
    "    \n",
    "    return cleaned_text\n",
    "df2['clean_text'] = df2['Text'].apply(clean_text)\n",
    "df2"
   ]
  },
  {
   "cell_type": "code",
   "execution_count": 13,
   "id": "801555dd",
   "metadata": {
    "execution": {
     "iopub.execute_input": "2024-04-08T00:54:18.768975Z",
     "iopub.status.busy": "2024-04-08T00:54:18.768667Z",
     "iopub.status.idle": "2024-04-08T00:54:18.812790Z",
     "shell.execute_reply": "2024-04-08T00:54:18.811803Z"
    },
    "papermill": {
     "duration": 0.056473,
     "end_time": "2024-04-08T00:54:18.815204",
     "exception": false,
     "start_time": "2024-04-08T00:54:18.758731",
     "status": "completed"
    },
    "tags": []
   },
   "outputs": [
    {
     "data": {
      "text/plain": [
       "array([[0.        , 0.        , 0.        , ..., 0.        , 0.        ,\n",
       "        0.        ],\n",
       "       [0.        , 0.        , 0.        , ..., 0.        , 0.        ,\n",
       "        0.        ],\n",
       "       [0.        , 0.        , 0.        , ..., 0.        , 0.03938203,\n",
       "        0.        ],\n",
       "       ...,\n",
       "       [0.        , 0.        , 0.        , ..., 0.        , 0.        ,\n",
       "        0.        ],\n",
       "       [0.        , 0.        , 0.        , ..., 0.01472515, 0.        ,\n",
       "        0.        ],\n",
       "       [0.01425661, 0.01425661, 0.01425661, ..., 0.        , 0.        ,\n",
       "        0.01211942]])"
      ]
     },
     "execution_count": 13,
     "metadata": {},
     "output_type": "execute_result"
    }
   ],
   "source": [
    "from sklearn.feature_extraction.text import TfidfVectorizer\n",
    "tfidfVec = TfidfVectorizer()\n",
    "\n",
    "result  = tfidfVec.fit_transform(df2['clean_text'])               \n",
    "result.toarray()"
   ]
  },
  {
   "cell_type": "code",
   "execution_count": 14,
   "id": "b527eb63",
   "metadata": {
    "execution": {
     "iopub.execute_input": "2024-04-08T00:54:18.834606Z",
     "iopub.status.busy": "2024-04-08T00:54:18.834243Z",
     "iopub.status.idle": "2024-04-08T00:54:18.868463Z",
     "shell.execute_reply": "2024-04-08T00:54:18.867404Z"
    },
    "papermill": {
     "duration": 0.046115,
     "end_time": "2024-04-08T00:54:18.870532",
     "exception": false,
     "start_time": "2024-04-08T00:54:18.824417",
     "status": "completed"
    },
    "tags": []
   },
   "outputs": [
    {
     "data": {
      "text/html": [
       "<div>\n",
       "<style scoped>\n",
       "    .dataframe tbody tr th:only-of-type {\n",
       "        vertical-align: middle;\n",
       "    }\n",
       "\n",
       "    .dataframe tbody tr th {\n",
       "        vertical-align: top;\n",
       "    }\n",
       "\n",
       "    .dataframe thead th {\n",
       "        text-align: right;\n",
       "    }\n",
       "</style>\n",
       "<table border=\"1\" class=\"dataframe\">\n",
       "  <thead>\n",
       "    <tr style=\"text-align: right;\">\n",
       "      <th></th>\n",
       "      <th>آبالتعليم</th>\n",
       "      <th>آببرامج</th>\n",
       "      <th>آبتحميل</th>\n",
       "      <th>آبتسجيل</th>\n",
       "      <th>آبحل</th>\n",
       "      <th>آخر</th>\n",
       "      <th>آخرها</th>\n",
       "      <th>آلاء</th>\n",
       "      <th>آلات</th>\n",
       "      <th>آلان</th>\n",
       "      <th>...</th>\n",
       "      <th>ينشئها</th>\n",
       "      <th>ينظر</th>\n",
       "      <th>ينعكس</th>\n",
       "      <th>ينمو</th>\n",
       "      <th>يهدف</th>\n",
       "      <th>يوفر</th>\n",
       "      <th>يوفرها</th>\n",
       "      <th>يولد</th>\n",
       "      <th>يوما</th>\n",
       "      <th>يوميا</th>\n",
       "    </tr>\n",
       "  </thead>\n",
       "  <tbody>\n",
       "    <tr>\n",
       "      <th>0</th>\n",
       "      <td>0.000000</td>\n",
       "      <td>0.000000</td>\n",
       "      <td>0.000000</td>\n",
       "      <td>0.000000</td>\n",
       "      <td>0.000000</td>\n",
       "      <td>0.006368</td>\n",
       "      <td>0.000000</td>\n",
       "      <td>0.000000</td>\n",
       "      <td>0.025622</td>\n",
       "      <td>0.014643</td>\n",
       "      <td>...</td>\n",
       "      <td>0.000000</td>\n",
       "      <td>0.000000</td>\n",
       "      <td>0.000000</td>\n",
       "      <td>0.000000</td>\n",
       "      <td>0.000000</td>\n",
       "      <td>0.000000</td>\n",
       "      <td>0.000000</td>\n",
       "      <td>0.000000</td>\n",
       "      <td>0.000000</td>\n",
       "      <td>0.000000</td>\n",
       "    </tr>\n",
       "    <tr>\n",
       "      <th>1</th>\n",
       "      <td>0.000000</td>\n",
       "      <td>0.000000</td>\n",
       "      <td>0.000000</td>\n",
       "      <td>0.000000</td>\n",
       "      <td>0.000000</td>\n",
       "      <td>0.013009</td>\n",
       "      <td>0.000000</td>\n",
       "      <td>0.000000</td>\n",
       "      <td>0.026168</td>\n",
       "      <td>0.000000</td>\n",
       "      <td>...</td>\n",
       "      <td>0.000000</td>\n",
       "      <td>0.000000</td>\n",
       "      <td>0.000000</td>\n",
       "      <td>0.000000</td>\n",
       "      <td>0.000000</td>\n",
       "      <td>0.000000</td>\n",
       "      <td>0.000000</td>\n",
       "      <td>0.000000</td>\n",
       "      <td>0.000000</td>\n",
       "      <td>0.000000</td>\n",
       "    </tr>\n",
       "    <tr>\n",
       "      <th>2</th>\n",
       "      <td>0.000000</td>\n",
       "      <td>0.000000</td>\n",
       "      <td>0.000000</td>\n",
       "      <td>0.000000</td>\n",
       "      <td>0.000000</td>\n",
       "      <td>0.014560</td>\n",
       "      <td>0.000000</td>\n",
       "      <td>0.000000</td>\n",
       "      <td>0.000000</td>\n",
       "      <td>0.033478</td>\n",
       "      <td>...</td>\n",
       "      <td>0.000000</td>\n",
       "      <td>0.000000</td>\n",
       "      <td>0.000000</td>\n",
       "      <td>0.000000</td>\n",
       "      <td>0.000000</td>\n",
       "      <td>0.000000</td>\n",
       "      <td>0.000000</td>\n",
       "      <td>0.000000</td>\n",
       "      <td>0.039382</td>\n",
       "      <td>0.000000</td>\n",
       "    </tr>\n",
       "    <tr>\n",
       "      <th>3</th>\n",
       "      <td>0.000000</td>\n",
       "      <td>0.000000</td>\n",
       "      <td>0.000000</td>\n",
       "      <td>0.000000</td>\n",
       "      <td>0.000000</td>\n",
       "      <td>0.018916</td>\n",
       "      <td>0.000000</td>\n",
       "      <td>0.000000</td>\n",
       "      <td>0.000000</td>\n",
       "      <td>0.000000</td>\n",
       "      <td>...</td>\n",
       "      <td>0.000000</td>\n",
       "      <td>0.000000</td>\n",
       "      <td>0.000000</td>\n",
       "      <td>0.000000</td>\n",
       "      <td>0.021747</td>\n",
       "      <td>0.019026</td>\n",
       "      <td>0.025582</td>\n",
       "      <td>0.000000</td>\n",
       "      <td>0.000000</td>\n",
       "      <td>0.000000</td>\n",
       "    </tr>\n",
       "    <tr>\n",
       "      <th>4</th>\n",
       "      <td>0.000000</td>\n",
       "      <td>0.000000</td>\n",
       "      <td>0.000000</td>\n",
       "      <td>0.000000</td>\n",
       "      <td>0.000000</td>\n",
       "      <td>0.021072</td>\n",
       "      <td>0.018998</td>\n",
       "      <td>0.000000</td>\n",
       "      <td>0.000000</td>\n",
       "      <td>0.000000</td>\n",
       "      <td>...</td>\n",
       "      <td>0.018998</td>\n",
       "      <td>0.000000</td>\n",
       "      <td>0.000000</td>\n",
       "      <td>0.000000</td>\n",
       "      <td>0.000000</td>\n",
       "      <td>0.000000</td>\n",
       "      <td>0.000000</td>\n",
       "      <td>0.000000</td>\n",
       "      <td>0.000000</td>\n",
       "      <td>0.000000</td>\n",
       "    </tr>\n",
       "    <tr>\n",
       "      <th>5</th>\n",
       "      <td>0.000000</td>\n",
       "      <td>0.000000</td>\n",
       "      <td>0.000000</td>\n",
       "      <td>0.034627</td>\n",
       "      <td>0.000000</td>\n",
       "      <td>0.038407</td>\n",
       "      <td>0.000000</td>\n",
       "      <td>0.000000</td>\n",
       "      <td>0.000000</td>\n",
       "      <td>0.000000</td>\n",
       "      <td>...</td>\n",
       "      <td>0.000000</td>\n",
       "      <td>0.000000</td>\n",
       "      <td>0.000000</td>\n",
       "      <td>0.000000</td>\n",
       "      <td>0.000000</td>\n",
       "      <td>0.000000</td>\n",
       "      <td>0.000000</td>\n",
       "      <td>0.000000</td>\n",
       "      <td>0.000000</td>\n",
       "      <td>0.029436</td>\n",
       "    </tr>\n",
       "    <tr>\n",
       "      <th>6</th>\n",
       "      <td>0.000000</td>\n",
       "      <td>0.000000</td>\n",
       "      <td>0.000000</td>\n",
       "      <td>0.000000</td>\n",
       "      <td>0.000000</td>\n",
       "      <td>0.008937</td>\n",
       "      <td>0.000000</td>\n",
       "      <td>0.000000</td>\n",
       "      <td>0.000000</td>\n",
       "      <td>0.000000</td>\n",
       "      <td>...</td>\n",
       "      <td>0.000000</td>\n",
       "      <td>0.012087</td>\n",
       "      <td>0.000000</td>\n",
       "      <td>0.000000</td>\n",
       "      <td>0.020550</td>\n",
       "      <td>0.017979</td>\n",
       "      <td>0.000000</td>\n",
       "      <td>0.000000</td>\n",
       "      <td>0.000000</td>\n",
       "      <td>0.000000</td>\n",
       "    </tr>\n",
       "    <tr>\n",
       "      <th>7</th>\n",
       "      <td>0.000000</td>\n",
       "      <td>0.000000</td>\n",
       "      <td>0.000000</td>\n",
       "      <td>0.000000</td>\n",
       "      <td>0.000000</td>\n",
       "      <td>0.009820</td>\n",
       "      <td>0.000000</td>\n",
       "      <td>0.000000</td>\n",
       "      <td>0.000000</td>\n",
       "      <td>0.000000</td>\n",
       "      <td>...</td>\n",
       "      <td>0.000000</td>\n",
       "      <td>0.000000</td>\n",
       "      <td>0.000000</td>\n",
       "      <td>0.026559</td>\n",
       "      <td>0.000000</td>\n",
       "      <td>0.000000</td>\n",
       "      <td>0.000000</td>\n",
       "      <td>0.000000</td>\n",
       "      <td>0.000000</td>\n",
       "      <td>0.000000</td>\n",
       "    </tr>\n",
       "    <tr>\n",
       "      <th>8</th>\n",
       "      <td>0.000000</td>\n",
       "      <td>0.000000</td>\n",
       "      <td>0.000000</td>\n",
       "      <td>0.000000</td>\n",
       "      <td>0.000000</td>\n",
       "      <td>0.005444</td>\n",
       "      <td>0.000000</td>\n",
       "      <td>0.014725</td>\n",
       "      <td>0.000000</td>\n",
       "      <td>0.000000</td>\n",
       "      <td>...</td>\n",
       "      <td>0.000000</td>\n",
       "      <td>0.000000</td>\n",
       "      <td>0.000000</td>\n",
       "      <td>0.000000</td>\n",
       "      <td>0.000000</td>\n",
       "      <td>0.000000</td>\n",
       "      <td>0.000000</td>\n",
       "      <td>0.014725</td>\n",
       "      <td>0.000000</td>\n",
       "      <td>0.000000</td>\n",
       "    </tr>\n",
       "    <tr>\n",
       "      <th>9</th>\n",
       "      <td>0.014257</td>\n",
       "      <td>0.014257</td>\n",
       "      <td>0.014257</td>\n",
       "      <td>0.000000</td>\n",
       "      <td>0.014257</td>\n",
       "      <td>0.010542</td>\n",
       "      <td>0.000000</td>\n",
       "      <td>0.000000</td>\n",
       "      <td>0.010603</td>\n",
       "      <td>0.000000</td>\n",
       "      <td>...</td>\n",
       "      <td>0.000000</td>\n",
       "      <td>0.000000</td>\n",
       "      <td>0.014257</td>\n",
       "      <td>0.000000</td>\n",
       "      <td>0.000000</td>\n",
       "      <td>0.042412</td>\n",
       "      <td>0.000000</td>\n",
       "      <td>0.000000</td>\n",
       "      <td>0.000000</td>\n",
       "      <td>0.012119</td>\n",
       "    </tr>\n",
       "  </tbody>\n",
       "</table>\n",
       "<p>10 rows × 3856 columns</p>\n",
       "</div>"
      ],
      "text/plain": [
       "   آبالتعليم   آببرامج   آبتحميل   آبتسجيل      آبحل       آخر     آخرها  \\\n",
       "0   0.000000  0.000000  0.000000  0.000000  0.000000  0.006368  0.000000   \n",
       "1   0.000000  0.000000  0.000000  0.000000  0.000000  0.013009  0.000000   \n",
       "2   0.000000  0.000000  0.000000  0.000000  0.000000  0.014560  0.000000   \n",
       "3   0.000000  0.000000  0.000000  0.000000  0.000000  0.018916  0.000000   \n",
       "4   0.000000  0.000000  0.000000  0.000000  0.000000  0.021072  0.018998   \n",
       "5   0.000000  0.000000  0.000000  0.034627  0.000000  0.038407  0.000000   \n",
       "6   0.000000  0.000000  0.000000  0.000000  0.000000  0.008937  0.000000   \n",
       "7   0.000000  0.000000  0.000000  0.000000  0.000000  0.009820  0.000000   \n",
       "8   0.000000  0.000000  0.000000  0.000000  0.000000  0.005444  0.000000   \n",
       "9   0.014257  0.014257  0.014257  0.000000  0.014257  0.010542  0.000000   \n",
       "\n",
       "       آلاء      آلات      آلان  ...    ينشئها      ينظر     ينعكس      ينمو  \\\n",
       "0  0.000000  0.025622  0.014643  ...  0.000000  0.000000  0.000000  0.000000   \n",
       "1  0.000000  0.026168  0.000000  ...  0.000000  0.000000  0.000000  0.000000   \n",
       "2  0.000000  0.000000  0.033478  ...  0.000000  0.000000  0.000000  0.000000   \n",
       "3  0.000000  0.000000  0.000000  ...  0.000000  0.000000  0.000000  0.000000   \n",
       "4  0.000000  0.000000  0.000000  ...  0.018998  0.000000  0.000000  0.000000   \n",
       "5  0.000000  0.000000  0.000000  ...  0.000000  0.000000  0.000000  0.000000   \n",
       "6  0.000000  0.000000  0.000000  ...  0.000000  0.012087  0.000000  0.000000   \n",
       "7  0.000000  0.000000  0.000000  ...  0.000000  0.000000  0.000000  0.026559   \n",
       "8  0.014725  0.000000  0.000000  ...  0.000000  0.000000  0.000000  0.000000   \n",
       "9  0.000000  0.010603  0.000000  ...  0.000000  0.000000  0.014257  0.000000   \n",
       "\n",
       "       يهدف      يوفر    يوفرها      يولد      يوما     يوميا  \n",
       "0  0.000000  0.000000  0.000000  0.000000  0.000000  0.000000  \n",
       "1  0.000000  0.000000  0.000000  0.000000  0.000000  0.000000  \n",
       "2  0.000000  0.000000  0.000000  0.000000  0.039382  0.000000  \n",
       "3  0.021747  0.019026  0.025582  0.000000  0.000000  0.000000  \n",
       "4  0.000000  0.000000  0.000000  0.000000  0.000000  0.000000  \n",
       "5  0.000000  0.000000  0.000000  0.000000  0.000000  0.029436  \n",
       "6  0.020550  0.017979  0.000000  0.000000  0.000000  0.000000  \n",
       "7  0.000000  0.000000  0.000000  0.000000  0.000000  0.000000  \n",
       "8  0.000000  0.000000  0.000000  0.014725  0.000000  0.000000  \n",
       "9  0.000000  0.042412  0.000000  0.000000  0.000000  0.012119  \n",
       "\n",
       "[10 rows x 3856 columns]"
      ]
     },
     "execution_count": 14,
     "metadata": {},
     "output_type": "execute_result"
    }
   ],
   "source": [
    "Tfid_bag_of_words = pd.DataFrame(result.toarray(), columns=tfidfVec.get_feature_names_out())\n",
    "Tfid_bag_of_words"
   ]
  },
  {
   "cell_type": "code",
   "execution_count": 15,
   "id": "369369e2",
   "metadata": {
    "execution": {
     "iopub.execute_input": "2024-04-08T00:54:18.889705Z",
     "iopub.status.busy": "2024-04-08T00:54:18.889406Z",
     "iopub.status.idle": "2024-04-08T00:54:18.895748Z",
     "shell.execute_reply": "2024-04-08T00:54:18.894907Z"
    },
    "papermill": {
     "duration": 0.018293,
     "end_time": "2024-04-08T00:54:18.897751",
     "exception": false,
     "start_time": "2024-04-08T00:54:18.879458",
     "status": "completed"
    },
    "tags": []
   },
   "outputs": [
    {
     "data": {
      "text/plain": [
       "0    9\n",
       "1    7\n",
       "2    8\n",
       "3    7\n",
       "4    6\n",
       "5    0\n",
       "6    4\n",
       "7    2\n",
       "8    0\n",
       "9    5\n",
       "Name: Score, dtype: int64"
      ]
     },
     "execution_count": 15,
     "metadata": {},
     "output_type": "execute_result"
    }
   ],
   "source": [
    "Y = df2['Score']\n",
    "Y"
   ]
  },
  {
   "cell_type": "code",
   "execution_count": 16,
   "id": "c8865b64",
   "metadata": {
    "execution": {
     "iopub.execute_input": "2024-04-08T00:54:18.916496Z",
     "iopub.status.busy": "2024-04-08T00:54:18.915870Z",
     "iopub.status.idle": "2024-04-08T00:54:18.927413Z",
     "shell.execute_reply": "2024-04-08T00:54:18.926586Z"
    },
    "papermill": {
     "duration": 0.023205,
     "end_time": "2024-04-08T00:54:18.929520",
     "exception": false,
     "start_time": "2024-04-08T00:54:18.906315",
     "status": "completed"
    },
    "tags": []
   },
   "outputs": [],
   "source": [
    "from sklearn.model_selection import train_test_split\n",
    "from sklearn.metrics import accuracy_score\n",
    "X_train, X_test, y_train, y_test     = train_test_split(Tfid_bag_of_words , Y,test_size=0.2, random_state = 1)"
   ]
  },
  {
   "cell_type": "code",
   "execution_count": 17,
   "id": "fba3fa18",
   "metadata": {
    "execution": {
     "iopub.execute_input": "2024-04-08T00:54:18.947744Z",
     "iopub.status.busy": "2024-04-08T00:54:18.947486Z",
     "iopub.status.idle": "2024-04-08T00:54:31.263204Z",
     "shell.execute_reply": "2024-04-08T00:54:31.261727Z"
    },
    "papermill": {
     "duration": 12.326879,
     "end_time": "2024-04-08T00:54:31.264870",
     "exception": true,
     "start_time": "2024-04-08T00:54:18.937991",
     "status": "failed"
    },
    "tags": []
   },
   "outputs": [
    {
     "name": "stderr",
     "output_type": "stream",
     "text": [
      "2024-04-08 00:54:20.701702: E external/local_xla/xla/stream_executor/cuda/cuda_dnn.cc:9261] Unable to register cuDNN factory: Attempting to register factory for plugin cuDNN when one has already been registered\n",
      "2024-04-08 00:54:20.701806: E external/local_xla/xla/stream_executor/cuda/cuda_fft.cc:607] Unable to register cuFFT factory: Attempting to register factory for plugin cuFFT when one has already been registered\n",
      "2024-04-08 00:54:20.827214: E external/local_xla/xla/stream_executor/cuda/cuda_blas.cc:1515] Unable to register cuBLAS factory: Attempting to register factory for plugin cuBLAS when one has already been registered\n"
     ]
    },
    {
     "ename": "ValueError",
     "evalue": "Unrecognized keyword arguments passed to Embedding: {'input_length': 200}",
     "output_type": "error",
     "traceback": [
      "\u001b[0;31m---------------------------------------------------------------------------\u001b[0m",
      "\u001b[0;31mValueError\u001b[0m                                Traceback (most recent call last)",
      "Cell \u001b[0;32mIn[17], line 15\u001b[0m\n\u001b[1;32m     11\u001b[0m epochs \u001b[38;5;241m=\u001b[39m \u001b[38;5;241m10\u001b[39m\n\u001b[1;32m     13\u001b[0m \u001b[38;5;66;03m# Construction du modèle RNN\u001b[39;00m\n\u001b[1;32m     14\u001b[0m model_rnn \u001b[38;5;241m=\u001b[39m Sequential([\n\u001b[0;32m---> 15\u001b[0m     \u001b[43mEmbedding\u001b[49m\u001b[43m(\u001b[49m\u001b[43minput_dim\u001b[49m\u001b[38;5;241;43m=\u001b[39;49m\u001b[43mvocab_size\u001b[49m\u001b[43m,\u001b[49m\u001b[43m \u001b[49m\u001b[43moutput_dim\u001b[49m\u001b[38;5;241;43m=\u001b[39;49m\u001b[43membedding_dim\u001b[49m\u001b[43m,\u001b[49m\u001b[43m \u001b[49m\u001b[43minput_length\u001b[49m\u001b[38;5;241;43m=\u001b[39;49m\u001b[43mmax_seq_length\u001b[49m\u001b[43m)\u001b[49m,\n\u001b[1;32m     16\u001b[0m     SimpleRNN(units\u001b[38;5;241m=\u001b[39m\u001b[38;5;241m128\u001b[39m, activation\u001b[38;5;241m=\u001b[39m\u001b[38;5;124m'\u001b[39m\u001b[38;5;124mrelu\u001b[39m\u001b[38;5;124m'\u001b[39m),\n\u001b[1;32m     17\u001b[0m     Dense(units\u001b[38;5;241m=\u001b[39mnum_classes, activation\u001b[38;5;241m=\u001b[39m\u001b[38;5;124m'\u001b[39m\u001b[38;5;124msoftmax\u001b[39m\u001b[38;5;124m'\u001b[39m)\n\u001b[1;32m     18\u001b[0m ])\n\u001b[1;32m     20\u001b[0m \u001b[38;5;66;03m# Compilation du modèle RNN\u001b[39;00m\n\u001b[1;32m     21\u001b[0m model_rnn\u001b[38;5;241m.\u001b[39mcompile(optimizer\u001b[38;5;241m=\u001b[39m\u001b[38;5;124m'\u001b[39m\u001b[38;5;124madam\u001b[39m\u001b[38;5;124m'\u001b[39m, loss\u001b[38;5;241m=\u001b[39m\u001b[38;5;124m'\u001b[39m\u001b[38;5;124msparse_categorical_crossentropy\u001b[39m\u001b[38;5;124m'\u001b[39m, metrics\u001b[38;5;241m=\u001b[39m[\u001b[38;5;124m'\u001b[39m\u001b[38;5;124maccuracy\u001b[39m\u001b[38;5;124m'\u001b[39m])\n",
      "File \u001b[0;32m/opt/conda/lib/python3.10/site-packages/keras/src/layers/core/embedding.py:81\u001b[0m, in \u001b[0;36mEmbedding.__init__\u001b[0;34m(self, input_dim, output_dim, embeddings_initializer, embeddings_regularizer, embeddings_constraint, mask_zero, lora_rank, **kwargs)\u001b[0m\n\u001b[1;32m     70\u001b[0m \u001b[38;5;28;01mdef\u001b[39;00m \u001b[38;5;21m__init__\u001b[39m(\n\u001b[1;32m     71\u001b[0m     \u001b[38;5;28mself\u001b[39m,\n\u001b[1;32m     72\u001b[0m     input_dim,\n\u001b[0;32m   (...)\u001b[0m\n\u001b[1;32m     79\u001b[0m     \u001b[38;5;241m*\u001b[39m\u001b[38;5;241m*\u001b[39mkwargs,\n\u001b[1;32m     80\u001b[0m ):\n\u001b[0;32m---> 81\u001b[0m     \u001b[38;5;28;43msuper\u001b[39;49m\u001b[43m(\u001b[49m\u001b[43m)\u001b[49m\u001b[38;5;241;43m.\u001b[39;49m\u001b[38;5;21;43m__init__\u001b[39;49m\u001b[43m(\u001b[49m\u001b[38;5;241;43m*\u001b[39;49m\u001b[38;5;241;43m*\u001b[39;49m\u001b[43mkwargs\u001b[49m\u001b[43m)\u001b[49m\n\u001b[1;32m     82\u001b[0m     \u001b[38;5;28mself\u001b[39m\u001b[38;5;241m.\u001b[39minput_dim \u001b[38;5;241m=\u001b[39m input_dim\n\u001b[1;32m     83\u001b[0m     \u001b[38;5;28mself\u001b[39m\u001b[38;5;241m.\u001b[39moutput_dim \u001b[38;5;241m=\u001b[39m output_dim\n",
      "File \u001b[0;32m/opt/conda/lib/python3.10/site-packages/keras/src/layers/layer.py:265\u001b[0m, in \u001b[0;36mLayer.__init__\u001b[0;34m(self, activity_regularizer, trainable, dtype, autocast, name, **kwargs)\u001b[0m\n\u001b[1;32m    263\u001b[0m     \u001b[38;5;28mself\u001b[39m\u001b[38;5;241m.\u001b[39m_input_shape_arg \u001b[38;5;241m=\u001b[39m input_shape_arg\n\u001b[1;32m    264\u001b[0m \u001b[38;5;28;01mif\u001b[39;00m kwargs:\n\u001b[0;32m--> 265\u001b[0m     \u001b[38;5;28;01mraise\u001b[39;00m \u001b[38;5;167;01mValueError\u001b[39;00m(\n\u001b[1;32m    266\u001b[0m         \u001b[38;5;124m\"\u001b[39m\u001b[38;5;124mUnrecognized keyword arguments \u001b[39m\u001b[38;5;124m\"\u001b[39m\n\u001b[1;32m    267\u001b[0m         \u001b[38;5;124mf\u001b[39m\u001b[38;5;124m\"\u001b[39m\u001b[38;5;124mpassed to \u001b[39m\u001b[38;5;132;01m{\u001b[39;00m\u001b[38;5;28mself\u001b[39m\u001b[38;5;241m.\u001b[39m\u001b[38;5;18m__class__\u001b[39m\u001b[38;5;241m.\u001b[39m\u001b[38;5;18m__name__\u001b[39m\u001b[38;5;132;01m}\u001b[39;00m\u001b[38;5;124m: \u001b[39m\u001b[38;5;132;01m{\u001b[39;00mkwargs\u001b[38;5;132;01m}\u001b[39;00m\u001b[38;5;124m\"\u001b[39m\n\u001b[1;32m    268\u001b[0m     )\n\u001b[1;32m    270\u001b[0m \u001b[38;5;28mself\u001b[39m\u001b[38;5;241m.\u001b[39mbuilt \u001b[38;5;241m=\u001b[39m \u001b[38;5;28;01mFalse\u001b[39;00m\n\u001b[1;32m    271\u001b[0m \u001b[38;5;28mself\u001b[39m\u001b[38;5;241m.\u001b[39mdtype_policy \u001b[38;5;241m=\u001b[39m dtype_policies\u001b[38;5;241m.\u001b[39mget(dtype)\n",
      "\u001b[0;31mValueError\u001b[0m: Unrecognized keyword arguments passed to Embedding: {'input_length': 200}"
     ]
    }
   ],
   "source": [
    "import tensorflow as tf\n",
    "from tensorflow.keras.models import Sequential\n",
    "from tensorflow.keras.layers import Embedding, SimpleRNN, Bidirectional, GRU, LSTM, Dense\n",
    "\n",
    "# Définition des hyperparamètres\n",
    "vocab_size = 10000\n",
    "embedding_dim = 128\n",
    "max_seq_length = 200\n",
    "num_classes = 2\n",
    "batch_size = 32\n",
    "epochs = 10\n",
    "\n",
    "# Construction du modèle RNN\n",
    "model_rnn = Sequential([\n",
    "    Embedding(input_dim=vocab_size, output_dim=embedding_dim, input_length=max_seq_length),\n",
    "    SimpleRNN(units=128, activation='relu'),\n",
    "    Dense(units=num_classes, activation='softmax')\n",
    "])\n",
    "\n",
    "# Compilation du modèle RNN\n",
    "model_rnn.compile(optimizer='adam', loss='sparse_categorical_crossentropy', metrics=['accuracy'])\n",
    "\n",
    "# Entraînement du modèle RNN\n",
    "history_rnn = model_rnn.fit(X_train, y_train, epochs=epochs, batch_size=batch_size, validation_data=(X_val, y_val))\n",
    "\n",
    "# Évaluation du modèle RNN\n",
    "loss_rnn, accuracy_rnn = model_rnn.evaluate(X_test, y_test)\n",
    "print(f'RNN Model - Test Loss: {loss_rnn}, Test Accuracy: {accuracy_rnn}')\n",
    "\n",
    "# Construction du modèle Bidirectional RNN\n",
    "model_bidirectional_rnn = Sequential([\n",
    "    Embedding(input_dim=vocab_size, output_dim=embedding_dim, input_length=max_seq_length),\n",
    "    Bidirectional(SimpleRNN(units=128, activation='relu')),\n",
    "    Dense(units=num_classes, activation='softmax')\n",
    "])\n",
    "\n",
    "# Compilation du modèle Bidirectional RNN\n",
    "model_bidirectional_rnn.compile(optimizer='adam', loss='sparse_categorical_crossentropy', metrics=['accuracy'])\n",
    "\n",
    "# Entraînement du modèle Bidirectional RNN\n",
    "history_bidirectional_rnn = model_bidirectional_rnn.fit(X_train, y_train, epochs=epochs, batch_size=batch_size, validation_data=(X_val, y_val))\n",
    "\n",
    "# Évaluation du modèle Bidirectional RNN\n",
    "loss_bidirectional_rnn, accuracy_bidirectional_rnn = model_bidirectional_rnn.evaluate(X_test, y_test)\n",
    "print(f'Bidirectional RNN Model - Test Loss: {loss_bidirectional_rnn}, Test Accuracy: {accuracy_bidirectional_rnn}')\n",
    "\n",
    "# Construction du modèle GRU\n",
    "model_gru = Sequential([\n",
    "    Embedding(input_dim=vocab_size, output_dim=embedding_dim, input_length=max_seq_length),\n",
    "    GRU(units=128, activation='relu'),\n",
    "    Dense(units=num_classes, activation='softmax')\n",
    "])\n",
    "\n",
    "# Compilation du modèle GRU\n",
    "model_gru.compile(optimizer='adam', loss='sparse_categorical_crossentropy', metrics=['accuracy'])\n",
    "\n",
    "# Entraînement du modèle GRU\n",
    "history_gru = model_gru.fit(X_train, y_train, epochs=epochs, batch_size=batch_size, validation_data=(X_val, y_val))\n",
    "\n",
    "# Évaluation du modèle GRU\n",
    "loss_gru, accuracy_gru = model_gru.evaluate(X_test, y_test)\n",
    "print(f'GRU Model - Test Loss: {loss_gru}, Test Accuracy: {accuracy_gru}')\n",
    "\n",
    "# Construction du modèle LSTM\n",
    "model_lstm = Sequential([\n",
    "    Embedding(input_dim=vocab_size, output_dim=embedding_dim, input_length=max_seq_length),\n",
    "    LSTM(units=128, activation='relu'),\n",
    "    Dense(units=num_classes, activation='softmax')\n",
    "])\n",
    "\n",
    "# Compilation du modèle LSTM\n",
    "model_lstm.compile(optimizer='adam', loss='sparse_categorical_crossentropy', metrics=['accuracy'])\n",
    "\n",
    "# Entraînement du modèle LSTM\n",
    "history_lstm = model_lstm.fit(X_train, y_train, epochs=epochs, batch_size=batch_size, validation_data=(X_val, y_val))\n",
    "\n",
    "# Évaluation du modèle LSTM\n",
    "loss_lstm, accuracy_lstm = model_lstm.evaluate(X_test, y_test)\n",
    "print(f'LSTM Model - Test Loss: {loss_lstm}, Test Accuracy: {accuracy_lstm}')\n"
   ]
  },
  {
   "cell_type": "code",
   "execution_count": null,
   "id": "61b1c6b8",
   "metadata": {
    "execution": {
     "iopub.execute_input": "2024-04-08T00:49:54.091416Z",
     "iopub.status.busy": "2024-04-08T00:49:54.090799Z",
     "iopub.status.idle": "2024-04-08T00:49:54.133870Z",
     "shell.execute_reply": "2024-04-08T00:49:54.132588Z",
     "shell.execute_reply.started": "2024-04-08T00:49:54.091386Z"
    },
    "papermill": {
     "duration": null,
     "end_time": null,
     "exception": null,
     "start_time": null,
     "status": "pending"
    },
    "tags": []
   },
   "outputs": [],
   "source": []
  },
  {
   "cell_type": "code",
   "execution_count": null,
   "id": "96a78a06",
   "metadata": {
    "papermill": {
     "duration": null,
     "end_time": null,
     "exception": null,
     "start_time": null,
     "status": "pending"
    },
    "tags": []
   },
   "outputs": [],
   "source": []
  }
 ],
 "metadata": {
  "kaggle": {
   "accelerator": "gpu",
   "dataSources": [],
   "dockerImageVersionId": 30673,
   "isGpuEnabled": true,
   "isInternetEnabled": true,
   "language": "python",
   "sourceType": "notebook"
  },
  "kernelspec": {
   "display_name": "Python 3",
   "language": "python",
   "name": "python3"
  },
  "language_info": {
   "codemirror_mode": {
    "name": "ipython",
    "version": 3
   },
   "file_extension": ".py",
   "mimetype": "text/x-python",
   "name": "python",
   "nbconvert_exporter": "python",
   "pygments_lexer": "ipython3",
   "version": "3.10.13"
  },
  "papermill": {
   "default_parameters": {},
   "duration": 29.23474,
   "end_time": "2024-04-08T00:54:34.496878",
   "environment_variables": {},
   "exception": true,
   "input_path": "__notebook__.ipynb",
   "output_path": "__notebook__.ipynb",
   "parameters": {},
   "start_time": "2024-04-08T00:54:05.262138",
   "version": "2.5.0"
  }
 },
 "nbformat": 4,
 "nbformat_minor": 5
}
